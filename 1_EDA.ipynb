{
  "nbformat": 4,
  "nbformat_minor": 0,
  "metadata": {
    "kernelspec": {
      "display_name": "Python 3",
      "language": "python",
      "name": "python3"
    },
    "language_info": {
      "codemirror_mode": {
        "name": "ipython",
        "version": 3
      },
      "file_extension": ".py",
      "mimetype": "text/x-python",
      "name": "python",
      "nbconvert_exporter": "python",
      "pygments_lexer": "ipython3",
      "version": "3.7.3"
    },
    "colab": {
      "name": "1-EDA.ipynb",
      "provenance": [],
      "include_colab_link": true
    }
  },
  "cells": [
    {
      "cell_type": "markdown",
      "metadata": {
        "id": "view-in-github",
        "colab_type": "text"
      },
      "source": [
        "<a href=\"https://colab.research.google.com/github/yassiSam/Resume/blob/master/1_EDA.ipynb\" target=\"_parent\"><img src=\"https://colab.research.google.com/assets/colab-badge.svg\" alt=\"Open In Colab\"/></a>"
      ]
    },
    {
      "cell_type": "code",
      "metadata": {
        "id": "U4by7Cfygkck"
      },
      "source": [
        "import pandas as pd\n",
        "import numpy as np\n",
        "from sklearn.neighbors import KNeighborsClassifier\n",
        "from sklearn.tree import DecisionTreeClassifier, plot_tree, export_graphviz\n",
        "from sklearn.linear_model import LogisticRegression\n",
        "from sklearn.model_selection import train_test_split\n",
        "from sklearn.metrics import f1_score, confusion_matrix, accuracy_score, precision_score, recall_score\n",
        "from sklearn.preprocessing import LabelEncoder, OneHotEncoder\n",
        "import graphviz"
      ],
      "execution_count": null,
      "outputs": []
    },
    {
      "cell_type": "markdown",
      "metadata": {
        "id": "eJFSXatZgkc1"
      },
      "source": [
        "# Data Inspection"
      ]
    },
    {
      "cell_type": "code",
      "metadata": {
        "id": "-OI_Txf0gkc2"
      },
      "source": [
        "df = pd.read_csv(\"ML_Project-Frockies-Extended.csv\")"
      ],
      "execution_count": null,
      "outputs": []
    },
    {
      "cell_type": "code",
      "metadata": {
        "id": "slzc9Hx5gkc3",
        "outputId": "904b5ddc-ef13-4983-a018-9e4ef8016865"
      },
      "source": [
        "df.describe()"
      ],
      "execution_count": null,
      "outputs": [
        {
          "output_type": "execute_result",
          "data": {
            "text/html": [
              "<div>\n",
              "<style scoped>\n",
              "    .dataframe tbody tr th:only-of-type {\n",
              "        vertical-align: middle;\n",
              "    }\n",
              "\n",
              "    .dataframe tbody tr th {\n",
              "        vertical-align: top;\n",
              "    }\n",
              "\n",
              "    .dataframe thead th {\n",
              "        text-align: right;\n",
              "    }\n",
              "</style>\n",
              "<table border=\"1\" class=\"dataframe\">\n",
              "  <thead>\n",
              "    <tr style=\"text-align: right;\">\n",
              "      <th></th>\n",
              "      <th>Discount Amount</th>\n",
              "      <th>Price</th>\n",
              "    </tr>\n",
              "  </thead>\n",
              "  <tbody>\n",
              "    <tr>\n",
              "      <th>count</th>\n",
              "      <td>500.000000</td>\n",
              "      <td>500.00000</td>\n",
              "    </tr>\n",
              "    <tr>\n",
              "      <th>mean</th>\n",
              "      <td>11.030000</td>\n",
              "      <td>1411.02000</td>\n",
              "    </tr>\n",
              "    <tr>\n",
              "      <th>std</th>\n",
              "      <td>8.980557</td>\n",
              "      <td>204.63066</td>\n",
              "    </tr>\n",
              "    <tr>\n",
              "      <th>min</th>\n",
              "      <td>0.000000</td>\n",
              "      <td>1100.00000</td>\n",
              "    </tr>\n",
              "    <tr>\n",
              "      <th>25%</th>\n",
              "      <td>0.000000</td>\n",
              "      <td>1250.00000</td>\n",
              "    </tr>\n",
              "    <tr>\n",
              "      <th>50%</th>\n",
              "      <td>15.000000</td>\n",
              "      <td>1400.00000</td>\n",
              "    </tr>\n",
              "    <tr>\n",
              "      <th>75%</th>\n",
              "      <td>20.000000</td>\n",
              "      <td>1550.00000</td>\n",
              "    </tr>\n",
              "    <tr>\n",
              "      <th>max</th>\n",
              "      <td>20.000000</td>\n",
              "      <td>1750.00000</td>\n",
              "    </tr>\n",
              "  </tbody>\n",
              "</table>\n",
              "</div>"
            ],
            "text/plain": [
              "       Discount Amount       Price\n",
              "count       500.000000   500.00000\n",
              "mean         11.030000  1411.02000\n",
              "std           8.980557   204.63066\n",
              "min           0.000000  1100.00000\n",
              "25%           0.000000  1250.00000\n",
              "50%          15.000000  1400.00000\n",
              "75%          20.000000  1550.00000\n",
              "max          20.000000  1750.00000"
            ]
          },
          "metadata": {
            "tags": []
          },
          "execution_count": 55
        }
      ]
    },
    {
      "cell_type": "code",
      "metadata": {
        "id": "cvDJSscYgkc4",
        "outputId": "860b714a-b81e-4b25-e207-afb8f35ac9a6"
      },
      "source": [
        "df.head().transpose()"
      ],
      "execution_count": null,
      "outputs": [
        {
          "output_type": "execute_result",
          "data": {
            "text/html": [
              "<div>\n",
              "<style scoped>\n",
              "    .dataframe tbody tr th:only-of-type {\n",
              "        vertical-align: middle;\n",
              "    }\n",
              "\n",
              "    .dataframe tbody tr th {\n",
              "        vertical-align: top;\n",
              "    }\n",
              "\n",
              "    .dataframe thead th {\n",
              "        text-align: right;\n",
              "    }\n",
              "</style>\n",
              "<table border=\"1\" class=\"dataframe\">\n",
              "  <thead>\n",
              "    <tr style=\"text-align: right;\">\n",
              "      <th></th>\n",
              "      <th>0</th>\n",
              "      <th>1</th>\n",
              "      <th>2</th>\n",
              "      <th>3</th>\n",
              "      <th>4</th>\n",
              "    </tr>\n",
              "  </thead>\n",
              "  <tbody>\n",
              "    <tr>\n",
              "      <th>Age range of customer</th>\n",
              "      <td>50-60</td>\n",
              "      <td>20-30</td>\n",
              "      <td>30-40</td>\n",
              "      <td>40-50</td>\n",
              "      <td>20-30</td>\n",
              "    </tr>\n",
              "    <tr>\n",
              "      <th>Color</th>\n",
              "      <td>Yellow</td>\n",
              "      <td>Green</td>\n",
              "      <td>Blue</td>\n",
              "      <td>Pink</td>\n",
              "      <td>Black</td>\n",
              "    </tr>\n",
              "    <tr>\n",
              "      <th>Material type</th>\n",
              "      <td>Cotton</td>\n",
              "      <td>Cotton</td>\n",
              "      <td>Denim</td>\n",
              "      <td>Cotton</td>\n",
              "      <td>Cotton</td>\n",
              "    </tr>\n",
              "    <tr>\n",
              "      <th>Discount Status</th>\n",
              "      <td>YES</td>\n",
              "      <td>YES</td>\n",
              "      <td>YES</td>\n",
              "      <td>YES</td>\n",
              "      <td>YES</td>\n",
              "    </tr>\n",
              "    <tr>\n",
              "      <th>Discount Amount</th>\n",
              "      <td>20</td>\n",
              "      <td>20</td>\n",
              "      <td>20</td>\n",
              "      <td>20</td>\n",
              "      <td>15</td>\n",
              "    </tr>\n",
              "    <tr>\n",
              "      <th>Price</th>\n",
              "      <td>1300</td>\n",
              "      <td>1400</td>\n",
              "      <td>1300</td>\n",
              "      <td>1100</td>\n",
              "      <td>1100</td>\n",
              "    </tr>\n",
              "    <tr>\n",
              "      <th>Price range</th>\n",
              "      <td>1250-1500</td>\n",
              "      <td>1250-1500</td>\n",
              "      <td>1250-1500</td>\n",
              "      <td>1000-1250</td>\n",
              "      <td>1000-1250</td>\n",
              "    </tr>\n",
              "    <tr>\n",
              "      <th>Sleeve pattern</th>\n",
              "      <td>Sleeveless</td>\n",
              "      <td>Short</td>\n",
              "      <td>Sleeveless</td>\n",
              "      <td>Short</td>\n",
              "      <td>Sleeveless</td>\n",
              "    </tr>\n",
              "    <tr>\n",
              "      <th>Material design</th>\n",
              "      <td>Floral</td>\n",
              "      <td>Plain</td>\n",
              "      <td>Dotted</td>\n",
              "      <td>Floral</td>\n",
              "      <td>Plain</td>\n",
              "    </tr>\n",
              "    <tr>\n",
              "      <th>Measurement type</th>\n",
              "      <td>Ready-made</td>\n",
              "      <td>Ready-made</td>\n",
              "      <td>Ready-made</td>\n",
              "      <td>Customized</td>\n",
              "      <td>Customized</td>\n",
              "    </tr>\n",
              "    <tr>\n",
              "      <th>Collar type</th>\n",
              "      <td>Collarless</td>\n",
              "      <td>Peter pan collar</td>\n",
              "      <td>Collarless</td>\n",
              "      <td>Collarless</td>\n",
              "      <td>Collarless</td>\n",
              "    </tr>\n",
              "    <tr>\n",
              "      <th>Including a hairband or not</th>\n",
              "      <td>No</td>\n",
              "      <td>No</td>\n",
              "      <td>No</td>\n",
              "      <td>No</td>\n",
              "      <td>No</td>\n",
              "    </tr>\n",
              "    <tr>\n",
              "      <th>Special features (Buttons/Hucks/Zippers/None)</th>\n",
              "      <td>Bow</td>\n",
              "      <td>None</td>\n",
              "      <td>Bow</td>\n",
              "      <td>Bow</td>\n",
              "      <td>None</td>\n",
              "    </tr>\n",
              "  </tbody>\n",
              "</table>\n",
              "</div>"
            ],
            "text/plain": [
              "                                                        0                 1  \\\n",
              "Age range of customer                               50-60             20-30   \n",
              "Color                                              Yellow             Green   \n",
              "Material type                                      Cotton            Cotton   \n",
              "Discount Status                                       YES               YES   \n",
              "Discount Amount                                        20                20   \n",
              "Price                                                1300              1400   \n",
              "Price range                                     1250-1500         1250-1500   \n",
              "Sleeve pattern                                 Sleeveless             Short   \n",
              "Material design                                    Floral             Plain   \n",
              "Measurement type                               Ready-made        Ready-made   \n",
              "Collar type                                    Collarless  Peter pan collar   \n",
              "Including a hairband or not                            No                No   \n",
              "Special features (Buttons/Hucks/Zippers/None)         Bow              None   \n",
              "\n",
              "                                                        2           3  \\\n",
              "Age range of customer                               30-40       40-50   \n",
              "Color                                                Blue        Pink   \n",
              "Material type                                       Denim      Cotton   \n",
              "Discount Status                                       YES         YES   \n",
              "Discount Amount                                        20          20   \n",
              "Price                                                1300        1100   \n",
              "Price range                                     1250-1500   1000-1250   \n",
              "Sleeve pattern                                 Sleeveless       Short   \n",
              "Material design                                    Dotted      Floral   \n",
              "Measurement type                               Ready-made  Customized   \n",
              "Collar type                                    Collarless  Collarless   \n",
              "Including a hairband or not                            No          No   \n",
              "Special features (Buttons/Hucks/Zippers/None)         Bow         Bow   \n",
              "\n",
              "                                                        4  \n",
              "Age range of customer                               20-30  \n",
              "Color                                               Black  \n",
              "Material type                                      Cotton  \n",
              "Discount Status                                       YES  \n",
              "Discount Amount                                        15  \n",
              "Price                                                1100  \n",
              "Price range                                     1000-1250  \n",
              "Sleeve pattern                                 Sleeveless  \n",
              "Material design                                     Plain  \n",
              "Measurement type                               Customized  \n",
              "Collar type                                    Collarless  \n",
              "Including a hairband or not                            No  \n",
              "Special features (Buttons/Hucks/Zippers/None)        None  "
            ]
          },
          "metadata": {
            "tags": []
          },
          "execution_count": 56
        }
      ]
    },
    {
      "cell_type": "code",
      "metadata": {
        "id": "dRI5lKjigkc5",
        "outputId": "8ee81bb2-ca5e-4920-a218-6fef71c3a199"
      },
      "source": [
        "print(df.columns)"
      ],
      "execution_count": null,
      "outputs": [
        {
          "output_type": "stream",
          "text": [
            "Index(['Age range of customer', 'Color', 'Material type', 'Discount Status',\n",
            "       'Discount Amount', 'Price', 'Price range', 'Sleeve pattern',\n",
            "       'Material design', 'Measurement type', 'Collar type',\n",
            "       'Including a hairband or not',\n",
            "       'Special features (Buttons/Hucks/Zippers/None)'],\n",
            "      dtype='object')\n"
          ],
          "name": "stdout"
        }
      ]
    },
    {
      "cell_type": "code",
      "metadata": {
        "id": "1cZ3mMW1gkc5",
        "outputId": "0c303358-f122-4e1e-876e-ae6a27352ff5"
      },
      "source": [
        "# Rename columns to make it easier to access and type\n",
        "df.columns = df.columns.map(lambda col: col.replace(\" \",\"_\").lower())\n",
        "df = df.rename(columns={\n",
        "    \"age_range_of_customer\":\"age_range\",\n",
        "    \"discount_status\":\"is_discount\",\n",
        "    \"including_a_hairband_or_not\":\"has_hairband\",\n",
        "    \"special_features_(buttons/hucks/zippers/none)\":\"extra_features\"\n",
        "})\n",
        "print(df.columns)"
      ],
      "execution_count": null,
      "outputs": [
        {
          "output_type": "stream",
          "text": [
            "Index(['age_range', 'color', 'material_type', 'is_discount', 'discount_amount',\n",
            "       'price', 'price_range', 'sleeve_pattern', 'material_design',\n",
            "       'measurement_type', 'collar_type', 'has_hairband', 'extra_features'],\n",
            "      dtype='object')\n"
          ],
          "name": "stdout"
        }
      ]
    },
    {
      "cell_type": "markdown",
      "metadata": {
        "id": "OTjFDqEUgkc6"
      },
      "source": [
        "# Exploratory Data Analysis\n",
        "\n",
        "There are 12 predictor variables with only two continous variable. "
      ]
    },
    {
      "cell_type": "code",
      "metadata": {
        "id": "Yojp_d6Ygkc7",
        "outputId": "eaef5b26-c572-4145-da3c-8bc572206de0"
      },
      "source": [
        "df.info()"
      ],
      "execution_count": null,
      "outputs": [
        {
          "output_type": "stream",
          "text": [
            "<class 'pandas.core.frame.DataFrame'>\n",
            "RangeIndex: 500 entries, 0 to 499\n",
            "Data columns (total 13 columns):\n",
            " #   Column            Non-Null Count  Dtype \n",
            "---  ------            --------------  ----- \n",
            " 0   age_range         500 non-null    object\n",
            " 1   color             500 non-null    object\n",
            " 2   material_type     500 non-null    object\n",
            " 3   is_discount       500 non-null    object\n",
            " 4   discount_amount   500 non-null    int64 \n",
            " 5   price             500 non-null    int64 \n",
            " 6   price_range       500 non-null    object\n",
            " 7   sleeve_pattern    500 non-null    object\n",
            " 8   material_design   500 non-null    object\n",
            " 9   measurement_type  500 non-null    object\n",
            " 10  collar_type       500 non-null    object\n",
            " 11  has_hairband      500 non-null    object\n",
            " 12  extra_features    500 non-null    object\n",
            "dtypes: int64(2), object(11)\n",
            "memory usage: 50.9+ KB\n"
          ],
          "name": "stdout"
        }
      ]
    },
    {
      "cell_type": "code",
      "metadata": {
        "id": "Qfo-s-h_gkc9",
        "outputId": "df0fe6c3-3ce8-4d73-fb5f-01396e548b84"
      },
      "source": [
        "for col in df.drop([\"discount_amount\",\"price\"],axis=\"columns\"):\n",
        "    print(f\"Value of counts of {col}\\n\")\n",
        "    print(df[col].value_counts())\n",
        "    print(\"\\n\")"
      ],
      "execution_count": null,
      "outputs": [
        {
          "output_type": "stream",
          "text": [
            "Value of counts of age_range\n",
            "\n",
            "30-40    185\n",
            "20-30    136\n",
            "40-50     89\n",
            "50-60     60\n",
            "60-70     30\n",
            "Name: age_range, dtype: int64\n",
            "\n",
            "\n",
            "Value of counts of color\n",
            "\n",
            "Red       115\n",
            "Yellow    103\n",
            "Pink       84\n",
            "Blue       63\n",
            "Black      36\n",
            "Green      32\n",
            "White      23\n",
            "Orange     22\n",
            "Flower     15\n",
            "Cream       7\n",
            "Name: color, dtype: int64\n",
            "\n",
            "\n",
            "Value of counts of material_type\n",
            "\n",
            "Cotton    430\n",
            "Denim      39\n",
            "Linen      31\n",
            "Name: material_type, dtype: int64\n",
            "\n",
            "\n",
            "Value of counts of is_discount\n",
            "\n",
            "YES    315\n",
            "NO     185\n",
            "Name: is_discount, dtype: int64\n",
            "\n",
            "\n",
            "Value of counts of price_range\n",
            "\n",
            "1250-1500    229\n",
            "1500-1750    167\n",
            "1000-1250    104\n",
            "Name: price_range, dtype: int64\n",
            "\n",
            "\n",
            "Value of counts of sleeve_pattern\n",
            "\n",
            "Sleeveless    354\n",
            "Short         146\n",
            "Name: sleeve_pattern, dtype: int64\n",
            "\n",
            "\n",
            "Value of counts of material_design\n",
            "\n",
            "Floral    294\n",
            "Check      84\n",
            "Dotted     71\n",
            "Plain      51\n",
            "Name: material_design, dtype: int64\n",
            "\n",
            "\n",
            "Value of counts of measurement_type\n",
            "\n",
            "Ready-made    336\n",
            "Customized    164\n",
            "Name: measurement_type, dtype: int64\n",
            "\n",
            "\n",
            "Value of counts of collar_type\n",
            "\n",
            "Collarless          446\n",
            "Peter pan collar     54\n",
            "Name: collar_type, dtype: int64\n",
            "\n",
            "\n",
            "Value of counts of has_hairband\n",
            "\n",
            "No     426\n",
            "Yes     74\n",
            "Name: has_hairband, dtype: int64\n",
            "\n",
            "\n",
            "Value of counts of extra_features\n",
            "\n",
            "Bow        344\n",
            "None        67\n",
            "Buttons     53\n",
            "Zipper      36\n",
            "Name: extra_features, dtype: int64\n",
            "\n",
            "\n"
          ],
          "name": "stdout"
        }
      ]
    },
    {
      "cell_type": "code",
      "metadata": {
        "id": "DkotUmekgkc_",
        "outputId": "8ff80f97-f817-4b2b-b84e-dbfdc29f10e3"
      },
      "source": [
        "for col in df.drop([\"discount_amount\",\"price\",\"age_range\"],axis=\"columns\"):\n",
        "    print(f\"{col} and age_range tabulation\\n\")\n",
        "    print(pd.crosstab(df[col],df.loc[:,\"age_range\"]))\n",
        "    print(\"\\n\")"
      ],
      "execution_count": null,
      "outputs": [
        {
          "output_type": "stream",
          "text": [
            "color and age_range tabulation\n",
            "\n",
            "age_range  20-30  30-40  40-50  50-60  60-70\n",
            "color                                       \n",
            "Black         17      7      4      2      6\n",
            "Blue           0     33     16     14      0\n",
            "Cream          0      3      0      4      0\n",
            "Flower         0      9      5      1      0\n",
            "Green         20      6      1      2      3\n",
            "Orange         0     13      5      4      0\n",
            "Pink          55     13      2      3     11\n",
            "Red            5     63     29     17      1\n",
            "White          0     13      7      3      0\n",
            "Yellow        39     25     20     10      9\n",
            "\n",
            "\n",
            "material_type and age_range tabulation\n",
            "\n",
            "age_range      20-30  30-40  40-50  50-60  60-70\n",
            "material_type                                   \n",
            "Cotton           136    149     73     42     30\n",
            "Denim              0     23      8      8      0\n",
            "Linen              0     13      8     10      0\n",
            "\n",
            "\n",
            "is_discount and age_range tabulation\n",
            "\n",
            "age_range    20-30  30-40  40-50  50-60  60-70\n",
            "is_discount                                   \n",
            "NO              90     56     22     15      2\n",
            "YES             46    129     67     45     28\n",
            "\n",
            "\n",
            "price_range and age_range tabulation\n",
            "\n",
            "age_range    20-30  30-40  40-50  50-60  60-70\n",
            "price_range                                   \n",
            "1000-1250       21     40     15     15     13\n",
            "1250-1500       76     73     40     29     11\n",
            "1500-1750       39     72     34     16      6\n",
            "\n",
            "\n",
            "sleeve_pattern and age_range tabulation\n",
            "\n",
            "age_range       20-30  30-40  40-50  50-60  60-70\n",
            "sleeve_pattern                                   \n",
            "Short              75     35     10     12     14\n",
            "Sleeveless         61    150     79     48     16\n",
            "\n",
            "\n",
            "material_design and age_range tabulation\n",
            "\n",
            "age_range        20-30  30-40  40-50  50-60  60-70\n",
            "material_design                                   \n",
            "Check                2     43     23     15      1\n",
            "Dotted              23     23      9     10      6\n",
            "Floral              87    106     50     32     19\n",
            "Plain               24     13      7      3      4\n",
            "\n",
            "\n",
            "measurement_type and age_range tabulation\n",
            "\n",
            "age_range         20-30  30-40  40-50  50-60  60-70\n",
            "measurement_type                                   \n",
            "Customized           57     33     38     19     17\n",
            "Ready-made           79    152     51     41     13\n",
            "\n",
            "\n",
            "collar_type and age_range tabulation\n",
            "\n",
            "age_range         20-30  30-40  40-50  50-60  60-70\n",
            "collar_type                                        \n",
            "Collarless          116    166     83     54     27\n",
            "Peter pan collar     20     19      6      6      3\n",
            "\n",
            "\n",
            "has_hairband and age_range tabulation\n",
            "\n",
            "age_range     20-30  30-40  40-50  50-60  60-70\n",
            "has_hairband                                   \n",
            "No               91    169     83     54     29\n",
            "Yes              45     16      6      6      1\n",
            "\n",
            "\n",
            "extra_features and age_range tabulation\n",
            "\n",
            "age_range       20-30  30-40  40-50  50-60  60-70\n",
            "extra_features                                   \n",
            "Bow                99    124     65     35     21\n",
            "Buttons            15     19      7      8      4\n",
            "None               22     23     10      7      5\n",
            "Zipper              0     19      7     10      0\n",
            "\n",
            "\n"
          ],
          "name": "stdout"
        }
      ]
    },
    {
      "cell_type": "markdown",
      "metadata": {
        "id": "TOzZ9b8Ygkc_"
      },
      "source": [
        "## Data Preprocessing"
      ]
    },
    {
      "cell_type": "code",
      "metadata": {
        "id": "bKhzXEfNgkc_"
      },
      "source": [
        "y = df[\"age_range\"]\n",
        "le = LabelEncoder()\n",
        "y = le.fit_transform(y)"
      ],
      "execution_count": null,
      "outputs": []
    },
    {
      "cell_type": "code",
      "metadata": {
        "id": "-A666oaYgkdA"
      },
      "source": [
        "X = df.drop([\"age_range\"],axis=\"columns\")\n",
        "X_cat = df.drop([\"discount_amount\",\"price\"],axis=\"columns\")\n",
        "X_num = df.loc[:,[\"discount_amount\",\"price\"]]\n",
        "X = pd.concat([X_num,pd.get_dummies(X_cat)],axis=\"columns\")"
      ],
      "execution_count": null,
      "outputs": []
    },
    {
      "cell_type": "markdown",
      "metadata": {
        "id": "mVZPnCbLgkdA"
      },
      "source": [
        "## Split Dataset"
      ]
    },
    {
      "cell_type": "code",
      "metadata": {
        "id": "r6sFAcqpgkdA"
      },
      "source": [
        "X_train, X_test, y_train, y_test = train_test_split(X,y,train_size = 0.8,test_size = 0.2,random_state=42)"
      ],
      "execution_count": null,
      "outputs": []
    },
    {
      "cell_type": "code",
      "metadata": {
        "id": "3ubkGXAJgkdA",
        "outputId": "7148f383-b9b4-4310-cb62-a10ff3f050d0"
      },
      "source": [
        "print(X_train.shape)\n",
        "print(X_test.shape)"
      ],
      "execution_count": null,
      "outputs": [
        {
          "output_type": "stream",
          "text": [
            "(400, 41)\n",
            "(100, 41)\n"
          ],
          "name": "stdout"
        }
      ]
    },
    {
      "cell_type": "code",
      "metadata": {
        "id": "FQwBMa_YgkdB"
      },
      "source": [
        "def evaluate_model(model,X_test,y_test):\n",
        "    preds = model.predict(X_test)\n",
        "    print(f\"F! Score is {round(f1_score(y_test,preds,average='macro'),4)}\")\n",
        "    print(f\"Accuracy is {round(accuracy_score(y_test,preds),4)}\")\n",
        "    print(f\"Precision Score is {round(precision_score(y_test,preds,average='macro'),4)}\")\n",
        "    print(f\"Recall Score is {round(recall_score(y_test,preds,average='macro'),4)}\")\n",
        "    print(confusion_matrix(y_test,preds))"
      ],
      "execution_count": null,
      "outputs": []
    },
    {
      "cell_type": "code",
      "metadata": {
        "id": "SXqX-V8baMpy"
      },
      "source": [
        ""
      ],
      "execution_count": null,
      "outputs": []
    },
    {
      "cell_type": "markdown",
      "metadata": {
        "id": "DgIkJLOXgkdB"
      },
      "source": [
        "## K Nearest Neighbours"
      ]
    },
    {
      "cell_type": "code",
      "metadata": {
        "id": "m6JcpzdrgkdB"
      },
      "source": [
        "knn_model = KNeighborsClassifier(n_neighbors = 5)\n",
        "knn_model = knn_model.fit(X_train,y_train)"
      ],
      "execution_count": null,
      "outputs": []
    },
    {
      "cell_type": "code",
      "metadata": {
        "id": "mVwII--sgkdC",
        "outputId": "bf7f68c3-b9da-4448-f71c-55356e287992"
      },
      "source": [
        "evaluate_model(knn_model,X_test,y_test)"
      ],
      "execution_count": null,
      "outputs": [
        {
          "output_type": "stream",
          "text": [
            "F! Score is 0.4898\n",
            "Accuracy is 0.59\n",
            "Precision Score is 0.6696\n",
            "Recall Score is 0.4654\n",
            "[[21  4  4  1  0]\n",
            " [ 5 29  1  1  0]\n",
            " [ 1 14  4  0  0]\n",
            " [ 1  4  0  4  0]\n",
            " [ 2  3  0  0  1]]\n"
          ],
          "name": "stdout"
        }
      ]
    },
    {
      "cell_type": "markdown",
      "metadata": {
        "id": "G1quvsq0gkdC"
      },
      "source": [
        "## Decision Tree"
      ]
    },
    {
      "cell_type": "code",
      "metadata": {
        "id": "TU_89hE9gkdC"
      },
      "source": [
        "dt_model = DecisionTreeClassifier()\n",
        "dt_model = dt_model.fit(X_train,y_train)"
      ],
      "execution_count": null,
      "outputs": []
    },
    {
      "cell_type": "code",
      "metadata": {
        "id": "u0JFr4ndgkdC",
        "outputId": "8731ccd3-eb6c-471d-e905-62d2202a8585"
      },
      "source": [
        "evaluate_model(dt_model,X_test,y_test)"
      ],
      "execution_count": null,
      "outputs": [
        {
          "output_type": "stream",
          "text": [
            "F! Score is 1.0\n",
            "Accuracy is 1.0\n",
            "Precision Score is 1.0\n",
            "Recall Score is 1.0\n",
            "[[30  0  0  0  0]\n",
            " [ 0 36  0  0  0]\n",
            " [ 0  0 19  0  0]\n",
            " [ 0  0  0  9  0]\n",
            " [ 0  0  0  0  6]]\n"
          ],
          "name": "stdout"
        }
      ]
    },
    {
      "cell_type": "code",
      "metadata": {
        "id": "kyk4nF9vgkdD",
        "outputId": "b0940e86-43e3-4c10-fba4-7856231e918a"
      },
      "source": [
        "fig = export_graphviz(dt_model, out_file = None,\n",
        "                      feature_names=X.columns.values, class_names=df.age_range.unique(), filled=True)\n",
        "graph = graphviz.Source(fig, format=\"png\") \n",
        "graph"
      ],
      "execution_count": null,
      "outputs": [
        {
          "output_type": "execute_result",
          "data": {
            "image/svg+xml": "<?xml version=\"1.0\" encoding=\"UTF-8\" standalone=\"no\"?>\n<!DOCTYPE svg PUBLIC \"-//W3C//DTD SVG 1.1//EN\"\n \"http://www.w3.org/Graphics/SVG/1.1/DTD/svg11.dtd\">\n<!-- Generated by graphviz version 2.46.0 (20210118.1747)\n -->\n<!-- Title: Tree Pages: 1 -->\n<svg width=\"575pt\" height=\"552pt\"\n viewBox=\"0.00 0.00 574.50 552.00\" xmlns=\"http://www.w3.org/2000/svg\" xmlns:xlink=\"http://www.w3.org/1999/xlink\">\n<g id=\"graph0\" class=\"graph\" transform=\"scale(1 1) rotate(0) translate(4 548)\">\n<title>Tree</title>\n<polygon fill=\"white\" stroke=\"transparent\" points=\"-4,4 -4,-548 570.5,-548 570.5,4 -4,4\"/>\n<!-- 0 -->\n<g id=\"node1\" class=\"node\">\n<title>0</title>\n<polygon fill=\"#ecfbe2\" stroke=\"black\" points=\"495.5,-544 313.5,-544 313.5,-461 495.5,-461 495.5,-544\"/>\n<text text-anchor=\"middle\" x=\"404.5\" y=\"-528.8\" font-family=\"Times,serif\" font-size=\"14.00\">age_range_30&#45;40 &lt;= 0.5</text>\n<text text-anchor=\"middle\" x=\"404.5\" y=\"-513.8\" font-family=\"Times,serif\" font-size=\"14.00\">gini = 0.741</text>\n<text text-anchor=\"middle\" x=\"404.5\" y=\"-498.8\" font-family=\"Times,serif\" font-size=\"14.00\">samples = 400</text>\n<text text-anchor=\"middle\" x=\"404.5\" y=\"-483.8\" font-family=\"Times,serif\" font-size=\"14.00\">value = [106, 149, 70, 51, 24]</text>\n<text text-anchor=\"middle\" x=\"404.5\" y=\"-468.8\" font-family=\"Times,serif\" font-size=\"14.00\">class = 20&#45;30</text>\n</g>\n<!-- 1 -->\n<g id=\"node2\" class=\"node\">\n<title>1</title>\n<polygon fill=\"#fae6d8\" stroke=\"black\" points=\"400.5,-425 232.5,-425 232.5,-342 400.5,-342 400.5,-425\"/>\n<text text-anchor=\"middle\" x=\"316.5\" y=\"-409.8\" font-family=\"Times,serif\" font-size=\"14.00\">age_range_20&#45;30 &lt;= 0.5</text>\n<text text-anchor=\"middle\" x=\"316.5\" y=\"-394.8\" font-family=\"Times,serif\" font-size=\"14.00\">gini = 0.693</text>\n<text text-anchor=\"middle\" x=\"316.5\" y=\"-379.8\" font-family=\"Times,serif\" font-size=\"14.00\">samples = 251</text>\n<text text-anchor=\"middle\" x=\"316.5\" y=\"-364.8\" font-family=\"Times,serif\" font-size=\"14.00\">value = [106, 0, 70, 51, 24]</text>\n<text text-anchor=\"middle\" x=\"316.5\" y=\"-349.8\" font-family=\"Times,serif\" font-size=\"14.00\">class = 50&#45;60</text>\n</g>\n<!-- 0&#45;&gt;1 -->\n<g id=\"edge1\" class=\"edge\">\n<title>0&#45;&gt;1</title>\n<path fill=\"none\" stroke=\"black\" d=\"M373.97,-460.91C367.21,-451.92 359.98,-442.32 353.02,-433.05\"/>\n<polygon fill=\"black\" stroke=\"black\" points=\"355.79,-430.91 346.98,-425.02 350.19,-435.12 355.79,-430.91\"/>\n<text text-anchor=\"middle\" x=\"343.48\" y=\"-446.07\" font-family=\"Times,serif\" font-size=\"14.00\">True</text>\n</g>\n<!-- 8 -->\n<g id=\"node9\" class=\"node\">\n<title>8</title>\n<polygon fill=\"#7be539\" stroke=\"black\" points=\"566.5,-417.5 418.5,-417.5 418.5,-349.5 566.5,-349.5 566.5,-417.5\"/>\n<text text-anchor=\"middle\" x=\"492.5\" y=\"-402.3\" font-family=\"Times,serif\" font-size=\"14.00\">gini = 0.0</text>\n<text text-anchor=\"middle\" x=\"492.5\" y=\"-387.3\" font-family=\"Times,serif\" font-size=\"14.00\">samples = 149</text>\n<text text-anchor=\"middle\" x=\"492.5\" y=\"-372.3\" font-family=\"Times,serif\" font-size=\"14.00\">value = [0, 149, 0, 0, 0]</text>\n<text text-anchor=\"middle\" x=\"492.5\" y=\"-357.3\" font-family=\"Times,serif\" font-size=\"14.00\">class = 20&#45;30</text>\n</g>\n<!-- 0&#45;&gt;8 -->\n<g id=\"edge8\" class=\"edge\">\n<title>0&#45;&gt;8</title>\n<path fill=\"none\" stroke=\"black\" d=\"M435.03,-460.91C443.58,-449.54 452.88,-437.18 461.46,-425.77\"/>\n<polygon fill=\"black\" stroke=\"black\" points=\"464.34,-427.76 467.55,-417.67 458.75,-423.55 464.34,-427.76\"/>\n<text text-anchor=\"middle\" x=\"471.06\" y=\"-438.72\" font-family=\"Times,serif\" font-size=\"14.00\">False</text>\n</g>\n<!-- 2 -->\n<g id=\"node3\" class=\"node\">\n<title>2</title>\n<polygon fill=\"#d7faf3\" stroke=\"black\" points=\"309,-306 154,-306 154,-223 309,-223 309,-306\"/>\n<text text-anchor=\"middle\" x=\"231.5\" y=\"-290.8\" font-family=\"Times,serif\" font-size=\"14.00\">age_range_40&#45;50 &lt;= 0.5</text>\n<text text-anchor=\"middle\" x=\"231.5\" y=\"-275.8\" font-family=\"Times,serif\" font-size=\"14.00\">gini = 0.616</text>\n<text text-anchor=\"middle\" x=\"231.5\" y=\"-260.8\" font-family=\"Times,serif\" font-size=\"14.00\">samples = 145</text>\n<text text-anchor=\"middle\" x=\"231.5\" y=\"-245.8\" font-family=\"Times,serif\" font-size=\"14.00\">value = [0, 0, 70, 51, 24]</text>\n<text text-anchor=\"middle\" x=\"231.5\" y=\"-230.8\" font-family=\"Times,serif\" font-size=\"14.00\">class = 30&#45;40</text>\n</g>\n<!-- 1&#45;&gt;2 -->\n<g id=\"edge2\" class=\"edge\">\n<title>1&#45;&gt;2</title>\n<path fill=\"none\" stroke=\"black\" d=\"M287.01,-341.91C280.55,-333.01 273.64,-323.51 266.98,-314.33\"/>\n<polygon fill=\"black\" stroke=\"black\" points=\"269.65,-312.05 260.94,-306.02 263.98,-316.17 269.65,-312.05\"/>\n</g>\n<!-- 7 -->\n<g id=\"node8\" class=\"node\">\n<title>7</title>\n<polygon fill=\"#e58139\" stroke=\"black\" points=\"475.5,-298.5 327.5,-298.5 327.5,-230.5 475.5,-230.5 475.5,-298.5\"/>\n<text text-anchor=\"middle\" x=\"401.5\" y=\"-283.3\" font-family=\"Times,serif\" font-size=\"14.00\">gini = 0.0</text>\n<text text-anchor=\"middle\" x=\"401.5\" y=\"-268.3\" font-family=\"Times,serif\" font-size=\"14.00\">samples = 106</text>\n<text text-anchor=\"middle\" x=\"401.5\" y=\"-253.3\" font-family=\"Times,serif\" font-size=\"14.00\">value = [106, 0, 0, 0, 0]</text>\n<text text-anchor=\"middle\" x=\"401.5\" y=\"-238.3\" font-family=\"Times,serif\" font-size=\"14.00\">class = 50&#45;60</text>\n</g>\n<!-- 1&#45;&gt;7 -->\n<g id=\"edge7\" class=\"edge\">\n<title>1&#45;&gt;7</title>\n<path fill=\"none\" stroke=\"black\" d=\"M345.99,-341.91C354.25,-330.54 363.23,-318.18 371.51,-306.77\"/>\n<polygon fill=\"black\" stroke=\"black\" points=\"374.36,-308.81 377.4,-298.67 368.7,-304.7 374.36,-308.81\"/>\n</g>\n<!-- 3 -->\n<g id=\"node4\" class=\"node\">\n<title>3</title>\n<polygon fill=\"#9896f1\" stroke=\"black\" points=\"225.5,-187 73.5,-187 73.5,-104 225.5,-104 225.5,-187\"/>\n<text text-anchor=\"middle\" x=\"149.5\" y=\"-171.8\" font-family=\"Times,serif\" font-size=\"14.00\">age_range_50&#45;60 &lt;= 0.5</text>\n<text text-anchor=\"middle\" x=\"149.5\" y=\"-156.8\" font-family=\"Times,serif\" font-size=\"14.00\">gini = 0.435</text>\n<text text-anchor=\"middle\" x=\"149.5\" y=\"-141.8\" font-family=\"Times,serif\" font-size=\"14.00\">samples = 75</text>\n<text text-anchor=\"middle\" x=\"149.5\" y=\"-126.8\" font-family=\"Times,serif\" font-size=\"14.00\">value = [0, 0, 0, 51, 24]</text>\n<text text-anchor=\"middle\" x=\"149.5\" y=\"-111.8\" font-family=\"Times,serif\" font-size=\"14.00\">class = 40&#45;50</text>\n</g>\n<!-- 2&#45;&gt;3 -->\n<g id=\"edge3\" class=\"edge\">\n<title>2&#45;&gt;3</title>\n<path fill=\"none\" stroke=\"black\" d=\"M203.05,-222.91C196.82,-214.01 190.16,-204.51 183.72,-195.33\"/>\n<polygon fill=\"black\" stroke=\"black\" points=\"186.5,-193.2 177.9,-187.02 180.77,-197.22 186.5,-193.2\"/>\n</g>\n<!-- 6 -->\n<g id=\"node7\" class=\"node\">\n<title>6</title>\n<polygon fill=\"#39e5c5\" stroke=\"black\" points=\"385,-179.5 244,-179.5 244,-111.5 385,-111.5 385,-179.5\"/>\n<text text-anchor=\"middle\" x=\"314.5\" y=\"-164.3\" font-family=\"Times,serif\" font-size=\"14.00\">gini = 0.0</text>\n<text text-anchor=\"middle\" x=\"314.5\" y=\"-149.3\" font-family=\"Times,serif\" font-size=\"14.00\">samples = 70</text>\n<text text-anchor=\"middle\" x=\"314.5\" y=\"-134.3\" font-family=\"Times,serif\" font-size=\"14.00\">value = [0, 0, 70, 0, 0]</text>\n<text text-anchor=\"middle\" x=\"314.5\" y=\"-119.3\" font-family=\"Times,serif\" font-size=\"14.00\">class = 30&#45;40</text>\n</g>\n<!-- 2&#45;&gt;6 -->\n<g id=\"edge6\" class=\"edge\">\n<title>2&#45;&gt;6</title>\n<path fill=\"none\" stroke=\"black\" d=\"M260.3,-222.91C268.28,-211.65 276.96,-199.42 284.98,-188.11\"/>\n<polygon fill=\"black\" stroke=\"black\" points=\"288.04,-189.85 290.97,-179.67 282.33,-185.8 288.04,-189.85\"/>\n</g>\n<!-- 4 -->\n<g id=\"node5\" class=\"node\">\n<title>4</title>\n<polygon fill=\"#e539c0\" stroke=\"black\" points=\"141,-68 0,-68 0,0 141,0 141,-68\"/>\n<text text-anchor=\"middle\" x=\"70.5\" y=\"-52.8\" font-family=\"Times,serif\" font-size=\"14.00\">gini = 0.0</text>\n<text text-anchor=\"middle\" x=\"70.5\" y=\"-37.8\" font-family=\"Times,serif\" font-size=\"14.00\">samples = 24</text>\n<text text-anchor=\"middle\" x=\"70.5\" y=\"-22.8\" font-family=\"Times,serif\" font-size=\"14.00\">value = [0, 0, 0, 0, 24]</text>\n<text text-anchor=\"middle\" x=\"70.5\" y=\"-7.8\" font-family=\"Times,serif\" font-size=\"14.00\">class = 60&#45;70</text>\n</g>\n<!-- 3&#45;&gt;4 -->\n<g id=\"edge4\" class=\"edge\">\n<title>3&#45;&gt;4</title>\n<path fill=\"none\" stroke=\"black\" d=\"M120.08,-103.73C113.7,-94.88 106.94,-85.51 100.53,-76.63\"/>\n<polygon fill=\"black\" stroke=\"black\" points=\"103.21,-74.36 94.52,-68.3 97.54,-78.46 103.21,-74.36\"/>\n</g>\n<!-- 5 -->\n<g id=\"node6\" class=\"node\">\n<title>5</title>\n<polygon fill=\"#3c39e5\" stroke=\"black\" points=\"300,-68 159,-68 159,0 300,0 300,-68\"/>\n<text text-anchor=\"middle\" x=\"229.5\" y=\"-52.8\" font-family=\"Times,serif\" font-size=\"14.00\">gini = 0.0</text>\n<text text-anchor=\"middle\" x=\"229.5\" y=\"-37.8\" font-family=\"Times,serif\" font-size=\"14.00\">samples = 51</text>\n<text text-anchor=\"middle\" x=\"229.5\" y=\"-22.8\" font-family=\"Times,serif\" font-size=\"14.00\">value = [0, 0, 0, 51, 0]</text>\n<text text-anchor=\"middle\" x=\"229.5\" y=\"-7.8\" font-family=\"Times,serif\" font-size=\"14.00\">class = 40&#45;50</text>\n</g>\n<!-- 3&#45;&gt;5 -->\n<g id=\"edge5\" class=\"edge\">\n<title>3&#45;&gt;5</title>\n<path fill=\"none\" stroke=\"black\" d=\"M179.29,-103.73C185.75,-94.88 192.6,-85.51 199.09,-76.63\"/>\n<polygon fill=\"black\" stroke=\"black\" points=\"202.1,-78.44 205.17,-68.3 196.45,-74.31 202.1,-78.44\"/>\n</g>\n</g>\n</svg>\n",
            "text/plain": [
              "<graphviz.files.Source at 0x123e30da0>"
            ]
          },
          "metadata": {
            "tags": []
          },
          "execution_count": 71
        }
      ]
    }
  ]
}